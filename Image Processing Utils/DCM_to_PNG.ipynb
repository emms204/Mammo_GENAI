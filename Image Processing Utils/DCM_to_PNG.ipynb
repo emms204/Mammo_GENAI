{
  "nbformat": 4,
  "nbformat_minor": 0,
  "metadata": {
    "colab": {
      "provenance": []
    },
    "kernelspec": {
      "name": "python3",
      "display_name": "Python 3"
    },
    "language_info": {
      "name": "python"
    }
  },
  "cells": [
    {
      "cell_type": "markdown",
      "source": [
        "Converting a List of DICOMs to PNG. This notebook will read DICOM files and convert them to 16-bit PNG. Flipping logic is included such that both left and right breast images will be pointed in the same direction to improve model training."
      ],
      "metadata": {
        "id": "4pVseS62kNPT"
      }
    },
    {
      "cell_type": "code",
      "source": [
        "import pydicom\n",
        "import os\n",
        "import numpy as np\n",
        "import pandas as pd\n",
        "import png\n",
        "import pylibjpeg\n",
        "from tqdm.notebook import tqdm\n",
        "import matplotlib.pyplot as plt"
      ],
      "metadata": {
        "id": "EdfzF2bukP2q"
      },
      "execution_count": null,
      "outputs": []
    },
    {
      "cell_type": "code",
      "execution_count": null,
      "metadata": {
        "id": "W5THr6ahkMBy"
      },
      "outputs": [],
      "source": [
        "# Get DICOM image metadata\n",
        "class DCM_Tags():\n",
        "    def __init__(self, img_dcm):\n",
        "        try:\n",
        "            self.laterality = img_dcm.ImageLaterality\n",
        "        except AttributeError:\n",
        "            self.laterality = np.nan\n",
        "\n",
        "        try:\n",
        "            self.view = img_dcm.ViewPosition\n",
        "        except AttributeError:\n",
        "            self.view = np.nan\n",
        "\n",
        "        try:\n",
        "            self.orientation = img_dcm.PatientOrientation\n",
        "        except AttributeError:\n",
        "            self.orientation = np.nan\n",
        "\n",
        "# Check whether DICOM should be flipped\n",
        "def check_dcm(imgdcm):\n",
        "    # Get DICOM metadata\n",
        "    tags = DCM_Tags(imgdcm)\n",
        "\n",
        "    # If image orientation tag is defined\n",
        "    if ~pd.isnull(tags.orientation):\n",
        "        # CC view\n",
        "        if tags.view == 'CC':\n",
        "            if tags.orientation[0] == 'P':\n",
        "                flipHorz = True\n",
        "            else:\n",
        "                flipHorz = False\n",
        "\n",
        "            if (tags.laterality == 'L') & (tags.orientation[1] == 'L'):\n",
        "                flipVert = True\n",
        "            elif (tags.laterality == 'R') & (tags.orientation[1] == 'R'):\n",
        "                flipVert = True\n",
        "            else:\n",
        "                flipVert = False\n",
        "\n",
        "        # MLO or ML views\n",
        "        elif (tags.view == 'MLO') | (tags.view == 'ML'):\n",
        "            if tags.orientation[0] == 'P':\n",
        "                flipHorz = True\n",
        "            else:\n",
        "                flipHorz = False\n",
        "\n",
        "            if (tags.laterality == 'L') & ((tags.orientation[1] == 'H') | (tags.orientation[1] == 'HL')):\n",
        "                flipVert = True\n",
        "            elif (tags.laterality == 'R') & ((tags.orientation[1] == 'H') | (tags.orientation[1] == 'HR')):\n",
        "                flipVert = True\n",
        "            else:\n",
        "                flipVert = False\n",
        "\n",
        "        # Unrecognized view\n",
        "        else:\n",
        "            flipHorz = False\n",
        "            flipVert = False\n",
        "\n",
        "    # If image orientation tag is undefined\n",
        "    else:\n",
        "        # Flip RCC, RML, and RMLO images\n",
        "        if (tags.laterality == 'R') & ((tags.view == 'CC') | (tags.view == 'ML') | (tags.view == 'MLO')):\n",
        "            flipHorz = True\n",
        "            flipVert = False\n",
        "        else:\n",
        "            flipHorz = False\n",
        "            flipVert = False\n",
        "\n",
        "    return flipHorz, flipVert\n",
        "\n",
        "# Save DICOM pixel array as PNG\n",
        "def save_dcm_image_as_png(image, png_filename, bitdepth=12):\n",
        "    with open(png_filename, 'wb') as f:\n",
        "        writer = png.Writer(height=image.shape[0],\n",
        "                            width=image.shape[1],\n",
        "                            bitdepth=bitdepth,\n",
        "                            greyscale=True)\n",
        "        writer.write(f, image.tolist())"
      ]
    },
    {
      "cell_type": "code",
      "source": [
        "from pathlib import Path\n",
        "image_path = Path(\"../images/\")\n",
        "file_paths = list(image_path.rglob(\"*.dicom\")) + list(image_path.rglob(\"*.dcm\"))\n",
        "len(file_paths)"
      ],
      "metadata": {
        "id": "EUY9fpujkWD6"
      },
      "execution_count": null,
      "outputs": []
    },
    {
      "cell_type": "markdown",
      "source": [
        "TEST TO SEE IF WE GOT THE CORRECT IMAGES"
      ],
      "metadata": {
        "id": "GsBIbxBukgC-"
      }
    },
    {
      "cell_type": "code",
      "source": [
        "dcm_list = file_paths\n",
        "sample_file_name = dcm_list[0]\n",
        "# Read in sample dicom file\n",
        "ds = pydicom.dcmread(sample_file_name)\n",
        "arr = ds.pixel_array\n",
        "\n",
        "# Flip the dicom file left to right, the flipping logic is included in the dcm to png file conversion code\n",
        "new_np_array = np.copy(arr)\n",
        "#define the width(w) and height(h) of the image\n",
        "h, w = arr.shape\n",
        "#make the image left-right\n",
        "for j in range(0,w):\n",
        "    for i in range(0,h):\n",
        "        new_np_array[i,j] = arr[i,w-1-j]\n",
        "\n",
        "# Display ROI on image\n",
        "figure, ax = plt.subplots(1)\n",
        "# rect = patches.Rectangle((x1, y1), x2-x1, y2-y1, linewidth=1, edgecolor='r', facecolor='none')\n",
        "ax.imshow(new_np_array, cmap=\"gray\")\n",
        "# ax.add_patch(rect)"
      ],
      "metadata": {
        "id": "yoAC7RyTki1M"
      },
      "execution_count": null,
      "outputs": []
    },
    {
      "cell_type": "code",
      "source": [
        "import multiprocessing\n",
        "from functools import partial\n",
        "\n",
        "def process_single_dcm(dcm_path, save_path):\n",
        "    # Extract the core processing logic from your original function\n",
        "    dcm = pydicom.dcmread(dcm_path)\n",
        "    img = dcm.pixel_array\n",
        "\n",
        "    horz, _ = check_dcm(dcm)\n",
        "    if horz:\n",
        "        img = np.fliplr(img)\n",
        "\n",
        "    split_fn = dcm_path.parent.parts[1] + '/' + dcm_path.name.split(\".\")[1]\n",
        "    new_fn = f\"{split_fn}.png\"\n",
        "\n",
        "    png_path = os.path.join(save_path, new_fn)\n",
        "    os.makedirs(os.path.dirname(png_path), exist_ok=True)\n",
        "    save_dcm_image_as_png(img, png_path)\n",
        "\n",
        "def process_dcm_list_multiprocessing(dcm_list, save_path):\n",
        "    # Determine the number of CPU cores\n",
        "    num_cores = multiprocessing.cpu_count()\n",
        "\n",
        "    # Create a partial function with fixed save_path\n",
        "    process_func = partial(process_single_dcm, save_path=save_path)\n",
        "\n",
        "    # Use Pool to process images in parallel\n",
        "    with multiprocessing.Pool(processes=num_cores) as pool:\n",
        "        list(tqdm(pool.imap(process_func, dcm_list), total=len(dcm_list), desc=\"Processing DICOM...\"))\n",
        "\n",
        "# Provide a list of DICOM paths and a target directory\n",
        "dcm_list = file_paths\n",
        "save_path = \"../vinidr/images_png/\"\n",
        "\n",
        "# Convert DICOMs with multiprocessing\n",
        "process_dcm_list_multiprocessing(dcm_list, save_path)"
      ],
      "metadata": {
        "id": "5JG1eogskp7-"
      },
      "execution_count": null,
      "outputs": []
    },
    {
      "cell_type": "markdown",
      "source": [
        "check to see if the proper images have been converted"
      ],
      "metadata": {
        "id": "hmiNdywOlUu_"
      }
    },
    {
      "cell_type": "code",
      "source": [
        "from pathlib import Path\n",
        "image_path = Path(\"../vinidr/images_png\")\n",
        "image_paths = list(image_path.rglob(\"*.png\"))\n",
        "\n",
        "len(image_paths)"
      ],
      "metadata": {
        "id": "s9EpYmTAlUD-"
      },
      "execution_count": null,
      "outputs": []
    },
    {
      "cell_type": "markdown",
      "source": [
        "check to delete the converted images from their previous location, set dry_run to True to just check the current status"
      ],
      "metadata": {
        "id": "G2838bkymW-I"
      }
    },
    {
      "cell_type": "code",
      "source": [
        "def cleanup_converted_dicoms(dicom_paths, png_paths, dry_run=True):\n",
        "    def extract_identifier(path):\n",
        "        return path.parent.parts[1] + '/' + path.name.split(\".\")[1]\n",
        "\n",
        "    dicom_identifiers = {extract_identifier(path) for path in dicom_paths}\n",
        "    png_identifiers = {extract_identifier(path) for path in png_paths}\n",
        "\n",
        "    converted_dicom_identifiers = dicom_identifiers.intersection(png_identifiers)\n",
        "\n",
        "    files_to_delete = [path for path in dicom_paths if extract_identifier(path) in converted_dicom_identifiers]\n",
        "\n",
        "    if dry_run:\n",
        "        print(f\"Dry run: {len(files_to_delete)} DICOM files would be deleted:\")\n",
        "        for file in files_to_delete:\n",
        "            print(file)\n",
        "        return files_to_delete\n",
        "    else:\n",
        "        for file in files_to_delete:\n",
        "            try:\n",
        "                os.remove(file)\n",
        "                print(f\"Deleted: {file}\")\n",
        "            except Exception as e:\n",
        "                print(f\"Error deleting {file}: {e}\")\n",
        "\n",
        "        print(f\"Total files deleted: {len(files_to_delete)}\")\n",
        "\n",
        "\n",
        "    # Actual deletion logic similar to previous example\n",
        "\n",
        "# First, do a dry run to see what would be deleted\n",
        "# files_to_delete = cleanup_converted_dicoms(file_paths, image_paths, dry_run=True)\n",
        "cleanup_converted_dicoms(file_paths, image_paths, dry_run=False)"
      ],
      "metadata": {
        "id": "gE3TEIz3lghO"
      },
      "execution_count": null,
      "outputs": []
    }
  ]
}